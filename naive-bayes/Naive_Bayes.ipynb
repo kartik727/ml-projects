{
  "nbformat": 4,
  "nbformat_minor": 0,
  "metadata": {
    "colab": {
      "name": "Naive_Bayes.ipynb",
      "provenance": [],
      "authorship_tag": "ABX9TyO8hW8tAlcnkEdEeHNikDGd",
      "include_colab_link": true
    },
    "kernelspec": {
      "name": "python3",
      "display_name": "Python 3"
    },
    "language_info": {
      "name": "python"
    }
  },
  "cells": [
    {
      "cell_type": "markdown",
      "metadata": {
        "id": "view-in-github",
        "colab_type": "text"
      },
      "source": [
        "<a href=\"https://colab.research.google.com/github/kartik727/ml-projects/blob/master/naive-bayes/Naive_Bayes.ipynb\" target=\"_parent\"><img src=\"https://colab.research.google.com/assets/colab-badge.svg\" alt=\"Open In Colab\"/></a>"
      ]
    },
    {
      "cell_type": "markdown",
      "source": [
        "# Naive Bayes"
      ],
      "metadata": {
        "id": "DHcMg-C8bDM0"
      }
    },
    {
      "cell_type": "code",
      "execution_count": 1,
      "metadata": {
        "id": "APQIW9dma9yj"
      },
      "outputs": [],
      "source": [
        "import numpy as np\n",
        "import pandas as pd\n",
        "from sklearn.metrics import precision_score, recall_score, f1_score, accuracy_score, confusion_matrix\n",
        "import seaborn as sns\n",
        "import matplotlib.pyplot as plt\n",
        "import re\n",
        "import math\n",
        "import random\n",
        "import os"
      ]
    },
    {
      "cell_type": "markdown",
      "source": [
        "## Setting up"
      ],
      "metadata": {
        "id": "4kOdHn39o_hp"
      }
    },
    {
      "cell_type": "code",
      "source": [
        "config = {\n",
        "    'data' : {\n",
        "        'train' : 'https://raw.githubusercontent.com/kartik727/ml-projects/master/naive-bayes/data/Corona_NLP_train.csv',\n",
        "        'test' : 'https://raw.githubusercontent.com/kartik727/ml-projects/master/naive-bayes/data/Corona_NLP_test.csv'\n",
        "    },\n",
        "    'training' : {\n",
        "        'binary_classification' : False,\n",
        "        'lowest_pos_class' : 2,\n",
        "        'word_count_threshold' : 10\n",
        "    }\n",
        "}"
      ],
      "metadata": {
        "id": "gUjrt60OdMq4"
      },
      "execution_count": 2,
      "outputs": []
    },
    {
      "cell_type": "code",
      "source": [
        "# Downloading data\n",
        "os.system(f'curl -o train.csv {config[\"data\"][\"train\"]}')\n",
        "os.system(f'curl -o test.csv {config[\"data\"][\"test\"]}')"
      ],
      "metadata": {
        "colab": {
          "base_uri": "https://localhost:8080/"
        },
        "id": "FGNbEFgSkLRY",
        "outputId": "448aec80-05f5-4e3f-ab91-9470104ad04d"
      },
      "execution_count": 3,
      "outputs": [
        {
          "output_type": "execute_result",
          "data": {
            "text/plain": [
              "0"
            ]
          },
          "metadata": {},
          "execution_count": 3
        }
      ]
    },
    {
      "cell_type": "code",
      "source": [
        "train_df = pd.read_csv('train.csv', encoding='latin-1')"
      ],
      "metadata": {
        "id": "412t8naZde2t"
      },
      "execution_count": 4,
      "outputs": []
    },
    {
      "cell_type": "code",
      "source": [
        "print(f'Number of training examples: {train_df.shape[0]:,}')"
      ],
      "metadata": {
        "colab": {
          "base_uri": "https://localhost:8080/"
        },
        "id": "A0K75CKAPf3t",
        "outputId": "7cb49db3-0337-4973-9087-8711804df22c"
      },
      "execution_count": 5,
      "outputs": [
        {
          "output_type": "stream",
          "name": "stdout",
          "text": [
            "Number of training examples: 41,157\n"
          ]
        }
      ]
    },
    {
      "cell_type": "markdown",
      "source": [
        "## Text pre-processing\n",
        "\n",
        "The `preprocess` function will convert a sentence into a form that can be understood by our Naive Bayes classifier."
      ],
      "metadata": {
        "id": "3YvAGegBo0xO"
      }
    },
    {
      "cell_type": "code",
      "source": [
        "def preprocess(sentence:str)->str:\n",
        "    # Remove non-ascii characters\n",
        "    sentence = ''.join([i if ord(i) < 128 else '' for i in sentence])\n",
        "\n",
        "    # Remove @usernames\n",
        "    sentence = re.sub('@[^\\s]+ ?','',sentence)\n",
        "\n",
        "    # Remove URLs\n",
        "    sentence = re. sub(r'\\S*https?:\\S*', '', sentence)\n",
        "\n",
        "    # Remove punctuations\n",
        "    sentence = re.sub('[^\\w\\s]', ' ', sentence)\n",
        "    sentence = re.sub('_', ' ', sentence)\n",
        "\n",
        "    # Remove \\n and \\r\n",
        "    sentence = re.sub('\\\\r', '', sentence)\n",
        "    sentence = re.sub('\\\\n', '', sentence)\n",
        "\n",
        "    # Remove numbers\n",
        "    sentence = re.sub('[0-9]+', '', sentence)\n",
        "\n",
        "    # Replace multiple spaces with single space\n",
        "    sentence = re.sub(' +', ' ', sentence)\n",
        "\n",
        "    # Convert to lowercase\n",
        "    sentence = sentence.lower()\n",
        "\n",
        "    return sentence.rstrip()"
      ],
      "metadata": {
        "id": "U8FmDkSXemCZ"
      },
      "execution_count": 6,
      "outputs": []
    },
    {
      "cell_type": "code",
      "source": [
        "# Example of preprocessing a tweet\n",
        "sample_sentence = random.choice(train_df['OriginalTweet'])\n",
        "preprocessed_sample = preprocess(sample_sentence)\n",
        "\n",
        "print(f'Sample sentence:\\n{sample_sentence}\\n')\n",
        "print(f'Sample sentence after preprocessing:\\n{preprocessed_sample}')"
      ],
      "metadata": {
        "colab": {
          "base_uri": "https://localhost:8080/"
        },
        "id": "1PSWe9-qQIdp",
        "outputId": "f0717871-b0ca-422e-986a-ae12389a0bb1"
      },
      "execution_count": 7,
      "outputs": [
        {
          "output_type": "stream",
          "name": "stdout",
          "text": [
            "Sample sentence:\n",
            "NEW BLOG POST ? weÂre discussing how to keep yourself, your family, and others safe while grocery shopping and when you get home. Plus, 7 days of simple, inspired meals for dinner this week!\r\r\n",
            "\r\r\n",
            "https://t.co/eDuTew0qYp\n",
            "\n",
            "Sample sentence after preprocessing:\n",
            "new blog post were discussing how to keep yourself your family and others safe while grocery shopping and when you get home plus days of simple inspired meals for dinner this week\n"
          ]
        }
      ]
    },
    {
      "cell_type": "code",
      "source": [
        "# Preprocessing all training examples\n",
        "train_df['text'] = train_df['OriginalTweet'].apply(preprocess)"
      ],
      "metadata": {
        "id": "CVV2y2j4qEWY"
      },
      "execution_count": 8,
      "outputs": []
    },
    {
      "cell_type": "markdown",
      "source": [
        "## Converting labels into classes\n",
        "The classes are mentioned in text form in the data. We want to convert them into numerical format for our model. Optionally, we also want to turn the problem into binary classification."
      ],
      "metadata": {
        "id": "-CsgPzd9s97H"
      }
    },
    {
      "cell_type": "code",
      "source": [
        "classes = {\n",
        "    'Extremely Negative' : 0,\n",
        "    'Negative' : 1,\n",
        "    'Neutral' : 2,\n",
        "    'Positive' : 3,\n",
        "    'Extremely Positive' : 4,\n",
        "}\n",
        "\n",
        "num_classes = len(classes)\n",
        "train_df['class'] = train_df['Sentiment'].replace(classes)\n",
        "\n",
        "# Optinally converting multi-class into binary classification\n",
        "if config['training']['binary_classification']:\n",
        "    min_pos = config['training']['lowest_pos_class']\n",
        "    train_df['class'] = train_df['class'].apply(lambda x: 0 if x<min_pos else 1)\n",
        "    num_classes = 2\n",
        "\n",
        "print(f'Number of classes: {num_classes}')"
      ],
      "metadata": {
        "id": "GDpcdEgotLWl",
        "colab": {
          "base_uri": "https://localhost:8080/"
        },
        "outputId": "3746b4b3-5751-427b-b620-5c9f6c8399ef"
      },
      "execution_count": 9,
      "outputs": [
        {
          "output_type": "stream",
          "name": "stdout",
          "text": [
            "Number of classes: 5\n"
          ]
        }
      ]
    },
    {
      "cell_type": "code",
      "source": [
        "# Only keeping the preprocessed data and the class labels \n",
        "train_df = train_df[['text', 'class']]"
      ],
      "metadata": {
        "id": "_QhNlh5Rssds"
      },
      "execution_count": 10,
      "outputs": []
    },
    {
      "cell_type": "code",
      "source": [
        "train_df.head()"
      ],
      "metadata": {
        "colab": {
          "base_uri": "https://localhost:8080/",
          "height": 206
        },
        "id": "UAikhaIssuW_",
        "outputId": "99e1f655-0d39-466c-f224-1318eb8ec580"
      },
      "execution_count": 11,
      "outputs": [
        {
          "output_type": "execute_result",
          "data": {
            "text/plain": [
              "                                                text  class\n",
              "0                                            and and      2\n",
              "1  advice talk to your neighbours family to excha...      3\n",
              "2  coronavirus australia woolworths to give elder...      3\n",
              "3  my food stock is not the only one which is emp...      3\n",
              "4  me ready to go at supermarket during the covid...      0"
            ],
            "text/html": [
              "\n",
              "  <div id=\"df-bbc3dd09-86b1-4b3a-b0af-a3edd93e4ebf\">\n",
              "    <div class=\"colab-df-container\">\n",
              "      <div>\n",
              "<style scoped>\n",
              "    .dataframe tbody tr th:only-of-type {\n",
              "        vertical-align: middle;\n",
              "    }\n",
              "\n",
              "    .dataframe tbody tr th {\n",
              "        vertical-align: top;\n",
              "    }\n",
              "\n",
              "    .dataframe thead th {\n",
              "        text-align: right;\n",
              "    }\n",
              "</style>\n",
              "<table border=\"1\" class=\"dataframe\">\n",
              "  <thead>\n",
              "    <tr style=\"text-align: right;\">\n",
              "      <th></th>\n",
              "      <th>text</th>\n",
              "      <th>class</th>\n",
              "    </tr>\n",
              "  </thead>\n",
              "  <tbody>\n",
              "    <tr>\n",
              "      <th>0</th>\n",
              "      <td>and and</td>\n",
              "      <td>2</td>\n",
              "    </tr>\n",
              "    <tr>\n",
              "      <th>1</th>\n",
              "      <td>advice talk to your neighbours family to excha...</td>\n",
              "      <td>3</td>\n",
              "    </tr>\n",
              "    <tr>\n",
              "      <th>2</th>\n",
              "      <td>coronavirus australia woolworths to give elder...</td>\n",
              "      <td>3</td>\n",
              "    </tr>\n",
              "    <tr>\n",
              "      <th>3</th>\n",
              "      <td>my food stock is not the only one which is emp...</td>\n",
              "      <td>3</td>\n",
              "    </tr>\n",
              "    <tr>\n",
              "      <th>4</th>\n",
              "      <td>me ready to go at supermarket during the covid...</td>\n",
              "      <td>0</td>\n",
              "    </tr>\n",
              "  </tbody>\n",
              "</table>\n",
              "</div>\n",
              "      <button class=\"colab-df-convert\" onclick=\"convertToInteractive('df-bbc3dd09-86b1-4b3a-b0af-a3edd93e4ebf')\"\n",
              "              title=\"Convert this dataframe to an interactive table.\"\n",
              "              style=\"display:none;\">\n",
              "        \n",
              "  <svg xmlns=\"http://www.w3.org/2000/svg\" height=\"24px\"viewBox=\"0 0 24 24\"\n",
              "       width=\"24px\">\n",
              "    <path d=\"M0 0h24v24H0V0z\" fill=\"none\"/>\n",
              "    <path d=\"M18.56 5.44l.94 2.06.94-2.06 2.06-.94-2.06-.94-.94-2.06-.94 2.06-2.06.94zm-11 1L8.5 8.5l.94-2.06 2.06-.94-2.06-.94L8.5 2.5l-.94 2.06-2.06.94zm10 10l.94 2.06.94-2.06 2.06-.94-2.06-.94-.94-2.06-.94 2.06-2.06.94z\"/><path d=\"M17.41 7.96l-1.37-1.37c-.4-.4-.92-.59-1.43-.59-.52 0-1.04.2-1.43.59L10.3 9.45l-7.72 7.72c-.78.78-.78 2.05 0 2.83L4 21.41c.39.39.9.59 1.41.59.51 0 1.02-.2 1.41-.59l7.78-7.78 2.81-2.81c.8-.78.8-2.07 0-2.86zM5.41 20L4 18.59l7.72-7.72 1.47 1.35L5.41 20z\"/>\n",
              "  </svg>\n",
              "      </button>\n",
              "      \n",
              "  <style>\n",
              "    .colab-df-container {\n",
              "      display:flex;\n",
              "      flex-wrap:wrap;\n",
              "      gap: 12px;\n",
              "    }\n",
              "\n",
              "    .colab-df-convert {\n",
              "      background-color: #E8F0FE;\n",
              "      border: none;\n",
              "      border-radius: 50%;\n",
              "      cursor: pointer;\n",
              "      display: none;\n",
              "      fill: #1967D2;\n",
              "      height: 32px;\n",
              "      padding: 0 0 0 0;\n",
              "      width: 32px;\n",
              "    }\n",
              "\n",
              "    .colab-df-convert:hover {\n",
              "      background-color: #E2EBFA;\n",
              "      box-shadow: 0px 1px 2px rgba(60, 64, 67, 0.3), 0px 1px 3px 1px rgba(60, 64, 67, 0.15);\n",
              "      fill: #174EA6;\n",
              "    }\n",
              "\n",
              "    [theme=dark] .colab-df-convert {\n",
              "      background-color: #3B4455;\n",
              "      fill: #D2E3FC;\n",
              "    }\n",
              "\n",
              "    [theme=dark] .colab-df-convert:hover {\n",
              "      background-color: #434B5C;\n",
              "      box-shadow: 0px 1px 3px 1px rgba(0, 0, 0, 0.15);\n",
              "      filter: drop-shadow(0px 1px 2px rgba(0, 0, 0, 0.3));\n",
              "      fill: #FFFFFF;\n",
              "    }\n",
              "  </style>\n",
              "\n",
              "      <script>\n",
              "        const buttonEl =\n",
              "          document.querySelector('#df-bbc3dd09-86b1-4b3a-b0af-a3edd93e4ebf button.colab-df-convert');\n",
              "        buttonEl.style.display =\n",
              "          google.colab.kernel.accessAllowed ? 'block' : 'none';\n",
              "\n",
              "        async function convertToInteractive(key) {\n",
              "          const element = document.querySelector('#df-bbc3dd09-86b1-4b3a-b0af-a3edd93e4ebf');\n",
              "          const dataTable =\n",
              "            await google.colab.kernel.invokeFunction('convertToInteractive',\n",
              "                                                     [key], {});\n",
              "          if (!dataTable) return;\n",
              "\n",
              "          const docLinkHtml = 'Like what you see? Visit the ' +\n",
              "            '<a target=\"_blank\" href=https://colab.research.google.com/notebooks/data_table.ipynb>data table notebook</a>'\n",
              "            + ' to learn more about interactive tables.';\n",
              "          element.innerHTML = '';\n",
              "          dataTable['output_type'] = 'display_data';\n",
              "          await google.colab.output.renderOutput(dataTable, element);\n",
              "          const docLink = document.createElement('div');\n",
              "          docLink.innerHTML = docLinkHtml;\n",
              "          element.appendChild(docLink);\n",
              "        }\n",
              "      </script>\n",
              "    </div>\n",
              "  </div>\n",
              "  "
            ]
          },
          "metadata": {},
          "execution_count": 11
        }
      ]
    },
    {
      "cell_type": "markdown",
      "source": [
        "## Create Vocabulary\n",
        "The vocabulary will hold all the words known to our model and the count of how many times they occurred in the training data."
      ],
      "metadata": {
        "id": "-FyV2EnMFjLt"
      }
    },
    {
      "cell_type": "code",
      "source": [
        "Vocab = dict()\n",
        "for idx, row in train_df.iterrows():\n",
        "    sentence = row['text']\n",
        "    for word in sentence.split(' '):\n",
        "        Vocab[word] = Vocab.get(word, 0) + 1\n",
        "\n",
        "print(f'Vocabulary size: {len(Vocab):,}')"
      ],
      "metadata": {
        "id": "usMoE3DqwQpm",
        "colab": {
          "base_uri": "https://localhost:8080/"
        },
        "outputId": "a7d54164-c4d4-4c85-edda-c6a0469b646d"
      },
      "execution_count": 12,
      "outputs": [
        {
          "output_type": "stream",
          "name": "stdout",
          "text": [
            "Vocabulary size: 45,605\n"
          ]
        }
      ]
    },
    {
      "cell_type": "code",
      "source": [
        "# Removing uncommon words\n",
        "num_threshold = config['training']['word_count_threshold']\n",
        "words = list(Vocab.keys())\n",
        "for word in words:\n",
        "    if Vocab[word] < num_threshold:\n",
        "        del Vocab[word]"
      ],
      "metadata": {
        "id": "rYvZJ2wbIoML"
      },
      "execution_count": 13,
      "outputs": []
    },
    {
      "cell_type": "code",
      "source": [
        "# Total number of words in our vocabulary\n",
        "vocab_words = len(Vocab)\n",
        "\n",
        "print(f'Vocabulary size: {vocab_words:,}')"
      ],
      "metadata": {
        "id": "fA9EmmF3Ie9m",
        "colab": {
          "base_uri": "https://localhost:8080/"
        },
        "outputId": "6b763f91-394c-4a32-a0f8-a5a3b5ed487b"
      },
      "execution_count": 14,
      "outputs": [
        {
          "output_type": "stream",
          "name": "stdout",
          "text": [
            "Vocabulary size: 6,778\n"
          ]
        }
      ]
    },
    {
      "cell_type": "markdown",
      "source": [
        "## Calculating class-wise probabilities\n",
        "Now we can calculate the class priors and conditional probabilities of words given a class.\n",
        "\n",
        "We will also create two mappings `idx_to_word` and `word_to_index` that will allow us to map words to their indices in the word probabilites table."
      ],
      "metadata": {
        "id": "KHmKg9tCLheq"
      }
    },
    {
      "cell_type": "code",
      "source": [
        "# Array of length (num_classes) containing class priors\n",
        "cls_probs = np.zeros((num_classes,))\n",
        "\n",
        "# Matrix of size (vocab_words x num_classes) containing conditional word probabilities\n",
        "wrd_probs = np.ones((vocab_words, num_classes)) "
      ],
      "metadata": {
        "id": "GaNnAQvjJ8MS"
      },
      "execution_count": 15,
      "outputs": []
    },
    {
      "cell_type": "code",
      "source": [
        "idx_to_word = np.empty((vocab_words,), dtype=object)\n",
        "word_to_idx = {}\n",
        "\n",
        "for i, word in enumerate(Vocab):\n",
        "    idx_to_word[i] = word\n",
        "    word_to_idx[word] = i"
      ],
      "metadata": {
        "id": "aAuFAd44S7yT"
      },
      "execution_count": 16,
      "outputs": []
    },
    {
      "cell_type": "code",
      "source": [
        "# Counting word occurrences per class\n",
        "for idx, row in train_df.iterrows():\n",
        "    sentence = row['text']\n",
        "    text_class = row['class']\n",
        "    cls_probs[text_class] += 1\n",
        "    for word in sentence.split(' '):\n",
        "        if word in Vocab:\n",
        "            idx = word_to_idx[word]\n",
        "            wrd_probs[idx, text_class] += 1"
      ],
      "metadata": {
        "id": "9o9w2zNbMDjC"
      },
      "execution_count": 17,
      "outputs": []
    },
    {
      "cell_type": "code",
      "source": [
        "# Dividing word occurrences by total occurrences per class to get probabilities\n",
        "cls_word_sums = wrd_probs.sum(axis=0)\n",
        "for row in range(vocab_words):\n",
        "    for col in range(num_classes):\n",
        "        wrd_probs[row, col] = wrd_probs[row, col] / cls_word_sums[col]"
      ],
      "metadata": {
        "id": "9R518ud6XbKt"
      },
      "execution_count": 18,
      "outputs": []
    },
    {
      "cell_type": "markdown",
      "source": [
        "## Inference\n",
        "To predict a class, we will calculate the posterior probabilities for each class using the likelihood and prior probabilities from the tables that we computed. Then, the class with the highest posterior probability will become our prediction.\n",
        "\n",
        "For numerical stability, we will compare the sum of log probabilites instead of product of probabilities."
      ],
      "metadata": {
        "id": "xdQLyw81YPYH"
      }
    },
    {
      "cell_type": "code",
      "source": [
        "def log_prob(sentence:str, cls:int)->float:\n",
        "    '''Calculates the log posterior probability for a given sentence and class'''\n",
        "    \n",
        "    words = preprocess(sentence).split(' ')\n",
        "    log_prob = 0.\n",
        "\n",
        "    # Calculating log likelihood\n",
        "    for word in words:\n",
        "        if word in Vocab:\n",
        "            word_idx = word_to_idx[word]\n",
        "            word_prob = wrd_probs[word_idx, cls]\n",
        "            log_prob += math.log(word_prob)\n",
        "    \n",
        "    # Adding log prior\n",
        "    log_prob += math.log(cls_probs[cls])\n",
        "\n",
        "    return log_prob"
      ],
      "metadata": {
        "id": "FLTbc2DdYYPS"
      },
      "execution_count": 19,
      "outputs": []
    },
    {
      "cell_type": "code",
      "source": [
        "def pred_class(sentence:str)->int:\n",
        "    '''Predicts the class of a given sentence using the Naive Bayes method'''\n",
        "\n",
        "    log_probs = np.empty((num_classes,))\n",
        "    for cls in range(num_classes):\n",
        "        log_probs[cls] = log_prob(sentence, cls)\n",
        "    \n",
        "    # Predicting the class with the maximum log posterior\n",
        "    pred = np.argmax(log_probs)\n",
        "    return pred"
      ],
      "metadata": {
        "id": "mrpRRNe9Z-iL"
      },
      "execution_count": 20,
      "outputs": []
    },
    {
      "cell_type": "markdown",
      "source": [
        "## Training data performance"
      ],
      "metadata": {
        "id": "hpRoT04ADN4w"
      }
    },
    {
      "cell_type": "code",
      "source": [
        "# Confusion Matrix\n",
        "def show_confusion_matrix(df:pd.DataFrame, title='Confusion Matrix')->None:\n",
        "    conf_matrix = confusion_matrix(df['class'], df['pred'])\n",
        "    df_cm = pd.DataFrame(conf_matrix)\n",
        "    fig = plt.figure(figsize = (10,8))\n",
        "    ax = sns.heatmap(df_cm, annot=True)\n",
        "    ax.xaxis.tick_top()\n",
        "    ax.xaxis.set_label_position('top')\n",
        "    ax.set_xlabel('Predicted class', fontsize=12)\n",
        "    ax.set_ylabel('True class', fontsize=12)\n",
        "    ax.set_title(title, fontsize=16)\n",
        "    fig.show()"
      ],
      "metadata": {
        "id": "xx1tWFyTDXp5"
      },
      "execution_count": 21,
      "outputs": []
    },
    {
      "cell_type": "code",
      "source": [
        "def print_perf_metrics(df:pd.DataFrame)->None:\n",
        "    average = 'binary' if num_classes==2 else 'macro'\n",
        "    precision = precision_score(df['class'], df['pred'], average=average)\n",
        "    recall = recall_score(df['class'], df['pred'], average=average)\n",
        "    f1 = f1_score(df['class'], df['pred'], average=average)\n",
        "    accuracy = accuracy_score(df['class'], df['pred'])\n",
        "\n",
        "    print(f'Accuracy    : {accuracy*100:.3f}%')\n",
        "    print(f'Precision   : {precision*100:.3f}%')\n",
        "    print(f'Recall      : {recall*100:.3f}%')\n",
        "    print(f'F1 Score    : {f1*100:.3f}%')"
      ],
      "metadata": {
        "id": "xWDVEtvgDVOM"
      },
      "execution_count": 22,
      "outputs": []
    },
    {
      "cell_type": "code",
      "source": [
        "# Computing the predictions using the `pred_class` function\n",
        "train_df['pred'] = train_df['text'].apply(pred_class)"
      ],
      "metadata": {
        "id": "QP9TmdLumRcN"
      },
      "execution_count": 23,
      "outputs": []
    },
    {
      "cell_type": "code",
      "source": [
        "show_confusion_matrix(train_df, title='Performance on train data\\n')"
      ],
      "metadata": {
        "colab": {
          "base_uri": "https://localhost:8080/",
          "height": 532
        },
        "id": "OCnseVD1leQH",
        "outputId": "5aa79451-52c1-407a-c5f9-e968af17f9eb"
      },
      "execution_count": 24,
      "outputs": [
        {
          "output_type": "display_data",
          "data": {
            "text/plain": [
              "<Figure size 720x576 with 2 Axes>"
            ],
            "image/png": "[encoded data removed]"
          },
          "metadata": {
            "needs_background": "light"
          }
        }
      ]
    },
    {
      "cell_type": "code",
      "source": [
        "print_perf_metrics(train_df)"
      ],
      "metadata": {
        "colab": {
          "base_uri": "https://localhost:8080/"
        },
        "id": "IOJVIVKdlid5",
        "outputId": "21570e23-083d-490f-8229-7bdcc260b5bf"
      },
      "execution_count": 25,
      "outputs": [
        {
          "output_type": "stream",
          "name": "stdout",
          "text": [
            "Accuracy    : 62.711%\n",
            "Precision   : 62.964%\n",
            "Recall      : 64.353%\n",
            "F1 Score    : 63.545%\n"
          ]
        }
      ]
    },
    {
      "cell_type": "markdown",
      "source": [
        "## Test data performance"
      ],
      "metadata": {
        "id": "WZMSCm5va6uC"
      }
    },
    {
      "cell_type": "code",
      "source": [
        "# Loading and preprocessing test data\n",
        "test_df = pd.read_csv('test.csv', encoding='latin-1')\n",
        "test_df['text'] = test_df['OriginalTweet'].apply(preprocess)\n",
        "\n",
        "test_df['class'] = test_df['Sentiment'].replace(classes)\n",
        "if config['training']['binary_classification']:\n",
        "    test_df['class'] = test_df['class'].apply(lambda x: 0 if x<min_pos else 1)\n",
        "\n",
        "test_df = test_df[['text', 'class']]\n",
        "\n",
        "print(f'Number of test examples: {test_df.shape[0]:,}')"
      ],
      "metadata": {
        "id": "Hp4GHCl_ZnEW",
        "colab": {
          "base_uri": "https://localhost:8080/"
        },
        "outputId": "922a4164-9dd0-47dc-eb7a-7785ff6b7cfe"
      },
      "execution_count": 26,
      "outputs": [
        {
          "output_type": "stream",
          "name": "stdout",
          "text": [
            "Number of test examples: 3,798\n"
          ]
        }
      ]
    },
    {
      "cell_type": "code",
      "source": [
        "test_df['pred'] = test_df['text'].apply(pred_class)"
      ],
      "metadata": {
        "id": "luLKLT6Mbp2W"
      },
      "execution_count": 27,
      "outputs": []
    },
    {
      "cell_type": "code",
      "source": [
        "test_df.head()"
      ],
      "metadata": {
        "colab": {
          "base_uri": "https://localhost:8080/",
          "height": 206
        },
        "id": "DdsxKTMlb1f-",
        "outputId": "c54c748e-1dc4-4473-db46-c5a3be531785"
      },
      "execution_count": 28,
      "outputs": [
        {
          "output_type": "execute_result",
          "data": {
            "text/plain": [
              "                                                text  class  pred\n",
              "0  trending new yorkers encounter empty supermark...      0     2\n",
              "1  when i couldn t find hand sanitizer at fred me...      3     3\n",
              "2  find out how you can protect yourself and love...      4     4\n",
              "3   panic buying hits newyork city as anxious sho...      1     1\n",
              "4   toiletpaper dunnypaper coronavirus coronaviru...      2     2"
            ],
            "text/html": [
              "\n",
              "  <div id=\"df-fa075e30-2b5f-48a1-aaf3-01cca81d8f13\">\n",
              "    <div class=\"colab-df-container\">\n",
              "      <div>\n",
              "<style scoped>\n",
              "    .dataframe tbody tr th:only-of-type {\n",
              "        vertical-align: middle;\n",
              "    }\n",
              "\n",
              "    .dataframe tbody tr th {\n",
              "        vertical-align: top;\n",
              "    }\n",
              "\n",
              "    .dataframe thead th {\n",
              "        text-align: right;\n",
              "    }\n",
              "</style>\n",
              "<table border=\"1\" class=\"dataframe\">\n",
              "  <thead>\n",
              "    <tr style=\"text-align: right;\">\n",
              "      <th></th>\n",
              "      <th>text</th>\n",
              "      <th>class</th>\n",
              "      <th>pred</th>\n",
              "    </tr>\n",
              "  </thead>\n",
              "  <tbody>\n",
              "    <tr>\n",
              "      <th>0</th>\n",
              "      <td>trending new yorkers encounter empty supermark...</td>\n",
              "      <td>0</td>\n",
              "      <td>2</td>\n",
              "    </tr>\n",
              "    <tr>\n",
              "      <th>1</th>\n",
              "      <td>when i couldn t find hand sanitizer at fred me...</td>\n",
              "      <td>3</td>\n",
              "      <td>3</td>\n",
              "    </tr>\n",
              "    <tr>\n",
              "      <th>2</th>\n",
              "      <td>find out how you can protect yourself and love...</td>\n",
              "      <td>4</td>\n",
              "      <td>4</td>\n",
              "    </tr>\n",
              "    <tr>\n",
              "      <th>3</th>\n",
              "      <td>panic buying hits newyork city as anxious sho...</td>\n",
              "      <td>1</td>\n",
              "      <td>1</td>\n",
              "    </tr>\n",
              "    <tr>\n",
              "      <th>4</th>\n",
              "      <td>toiletpaper dunnypaper coronavirus coronaviru...</td>\n",
              "      <td>2</td>\n",
              "      <td>2</td>\n",
              "    </tr>\n",
              "  </tbody>\n",
              "</table>\n",
              "</div>\n",
              "      <button class=\"colab-df-convert\" onclick=\"convertToInteractive('df-fa075e30-2b5f-48a1-aaf3-01cca81d8f13')\"\n",
              "              title=\"Convert this dataframe to an interactive table.\"\n",
              "              style=\"display:none;\">\n",
              "        \n",
              "  <svg xmlns=\"http://www.w3.org/2000/svg\" height=\"24px\"viewBox=\"0 0 24 24\"\n",
              "       width=\"24px\">\n",
              "    <path d=\"M0 0h24v24H0V0z\" fill=\"none\"/>\n",
              "    <path d=\"M18.56 5.44l.94 2.06.94-2.06 2.06-.94-2.06-.94-.94-2.06-.94 2.06-2.06.94zm-11 1L8.5 8.5l.94-2.06 2.06-.94-2.06-.94L8.5 2.5l-.94 2.06-2.06.94zm10 10l.94 2.06.94-2.06 2.06-.94-2.06-.94-.94-2.06-.94 2.06-2.06.94z\"/><path d=\"M17.41 7.96l-1.37-1.37c-.4-.4-.92-.59-1.43-.59-.52 0-1.04.2-1.43.59L10.3 9.45l-7.72 7.72c-.78.78-.78 2.05 0 2.83L4 21.41c.39.39.9.59 1.41.59.51 0 1.02-.2 1.41-.59l7.78-7.78 2.81-2.81c.8-.78.8-2.07 0-2.86zM5.41 20L4 18.59l7.72-7.72 1.47 1.35L5.41 20z\"/>\n",
              "  </svg>\n",
              "      </button>\n",
              "      \n",
              "  <style>\n",
              "    .colab-df-container {\n",
              "      display:flex;\n",
              "      flex-wrap:wrap;\n",
              "      gap: 12px;\n",
              "    }\n",
              "\n",
              "    .colab-df-convert {\n",
              "      background-color: #E8F0FE;\n",
              "      border: none;\n",
              "      border-radius: 50%;\n",
              "      cursor: pointer;\n",
              "      display: none;\n",
              "      fill: #1967D2;\n",
              "      height: 32px;\n",
              "      padding: 0 0 0 0;\n",
              "      width: 32px;\n",
              "    }\n",
              "\n",
              "    .colab-df-convert:hover {\n",
              "      background-color: #E2EBFA;\n",
              "      box-shadow: 0px 1px 2px rgba(60, 64, 67, 0.3), 0px 1px 3px 1px rgba(60, 64, 67, 0.15);\n",
              "      fill: #174EA6;\n",
              "    }\n",
              "\n",
              "    [theme=dark] .colab-df-convert {\n",
              "      background-color: #3B4455;\n",
              "      fill: #D2E3FC;\n",
              "    }\n",
              "\n",
              "    [theme=dark] .colab-df-convert:hover {\n",
              "      background-color: #434B5C;\n",
              "      box-shadow: 0px 1px 3px 1px rgba(0, 0, 0, 0.15);\n",
              "      filter: drop-shadow(0px 1px 2px rgba(0, 0, 0, 0.3));\n",
              "      fill: #FFFFFF;\n",
              "    }\n",
              "  </style>\n",
              "\n",
              "      <script>\n",
              "        const buttonEl =\n",
              "          document.querySelector('#df-fa075e30-2b5f-48a1-aaf3-01cca81d8f13 button.colab-df-convert');\n",
              "        buttonEl.style.display =\n",
              "          google.colab.kernel.accessAllowed ? 'block' : 'none';\n",
              "\n",
              "        async function convertToInteractive(key) {\n",
              "          const element = document.querySelector('#df-fa075e30-2b5f-48a1-aaf3-01cca81d8f13');\n",
              "          const dataTable =\n",
              "            await google.colab.kernel.invokeFunction('convertToInteractive',\n",
              "                                                     [key], {});\n",
              "          if (!dataTable) return;\n",
              "\n",
              "          const docLinkHtml = 'Like what you see? Visit the ' +\n",
              "            '<a target=\"_blank\" href=https://colab.research.google.com/notebooks/data_table.ipynb>data table notebook</a>'\n",
              "            + ' to learn more about interactive tables.';\n",
              "          element.innerHTML = '';\n",
              "          dataTable['output_type'] = 'display_data';\n",
              "          await google.colab.output.renderOutput(dataTable, element);\n",
              "          const docLink = document.createElement('div');\n",
              "          docLink.innerHTML = docLinkHtml;\n",
              "          element.appendChild(docLink);\n",
              "        }\n",
              "      </script>\n",
              "    </div>\n",
              "  </div>\n",
              "  "
            ]
          },
          "metadata": {},
          "execution_count": 28
        }
      ]
    },
    {
      "cell_type": "code",
      "source": [
        "show_confusion_matrix(test_df, title='Performance on test data\\n')"
      ],
      "metadata": {
        "colab": {
          "base_uri": "https://localhost:8080/",
          "height": 532
        },
        "id": "h9yq2YKs3SKq",
        "outputId": "4793b5a2-d07b-450a-cb01-4a5356f5871d"
      },
      "execution_count": 29,
      "outputs": [
        {
          "output_type": "display_data",
          "data": {
            "text/plain": [
              "<Figure size 720x576 with 2 Axes>"
            ],
            "image/png": "[encoded data removed]"
          },
          "metadata": {
            "needs_background": "light"
          }
        }
      ]
    },
    {
      "cell_type": "code",
      "source": [
        "print_perf_metrics(test_df)"
      ],
      "metadata": {
        "id": "wi6WvQSy-Lkl",
        "colab": {
          "base_uri": "https://localhost:8080/"
        },
        "outputId": "d2a47508-057a-4614-bf48-6e94401b0829"
      },
      "execution_count": 30,
      "outputs": [
        {
          "output_type": "stream",
          "name": "stdout",
          "text": [
            "Accuracy    : 49.421%\n",
            "Precision   : 50.793%\n",
            "Recall      : 50.379%\n",
            "F1 Score    : 50.516%\n"
          ]
        }
      ]
    },
    {
      "cell_type": "markdown",
      "source": [
        "## Generating new sentences\n",
        "Since NB learns the conditional probabilities of the words, we can generate new sentences using those probabilities. The generated sentences will likely be gramatically incorrect since our model is a unigram model and has no notion of word orders."
      ],
      "metadata": {
        "id": "J4-snYoCMLCG"
      }
    },
    {
      "cell_type": "code",
      "source": [
        "def generate_sentence(class_num, num_words=8):\n",
        "    # Indices of randomly selected words from our vocabulary based on the learned probabilities\n",
        "    gen_idxs = np.random.choice(vocab_words, size=(num_words,), p=wrd_probs[:, class_num])\n",
        "\n",
        "    # Converting indices into words\n",
        "    gen_words = np.empty_like(gen_idxs, dtype=object)\n",
        "    for i in range(len(gen_words)):\n",
        "        gen_words[i] = idx_to_word[gen_idxs[i]]\n",
        "\n",
        "    # Concatenating words into sentence\n",
        "    gen_sentence = ' '.join(gen_words)\n",
        "\n",
        "    return gen_sentence\n",
        "\n",
        "class_num = 0   # 0 or 1 for binary. 0-4 for multi-class\n",
        "gen_sent = generate_sentence(class_num)\n",
        "print(f'Generated sentence for class {class_num}:\\n{gen_sent}')"
      ],
      "metadata": {
        "colab": {
          "base_uri": "https://localhost:8080/"
        },
        "id": "D7s5-y9RR8Xm",
        "outputId": "57683883-f346-4716-83bd-63ebfc92e84c"
      },
      "execution_count": 31,
      "outputs": [
        {
          "output_type": "stream",
          "name": "stdout",
          "text": [
            "Generated sentence for class 0:\n",
            "more s scams shopping hygiene vulnerable to they\n"
          ]
        }
      ]
    }
  ]
}